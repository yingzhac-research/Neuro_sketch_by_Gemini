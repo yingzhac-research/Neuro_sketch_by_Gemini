{
 "cells": [
  {
   "cell_type": "markdown",
   "id": "0ce88361",
   "metadata": {},
   "source": [
    "# NNGen Demo — Gemini 2.5 Flash Image\n",
    "\n",
    "Interactive demo to generate a neural network diagram from a natural language prompt.\n",
    "- Uses the multi-agent pipeline (`parser → planner → prompt-gen → G1 → G2 → judge → select → edit loop → archive`).\n",
    "- All model calls go through `app.llm.gemini.call_gemini`. If `GEMINI_API_KEY` is not set, the pipeline falls back to local placeholders so the demo still runs.\n",
    "- For image generation/editing, set `GEMINI_IMAGE_MODEL`/`GEMINI_IMAGE_EDIT_MODEL` (e.g., `gemini-2.5-flash-image` or `gemini-2.5-flash-image-preview`).\n"
   ]
  },
  {
   "cell_type": "code",
   "execution_count": 1,
   "id": "a0f6490c",
   "metadata": {},
   "outputs": [
    {
     "ename": "ModuleNotFoundError",
     "evalue": "No module named 'app'",
     "output_type": "error",
     "traceback": [
      "\u001b[31m---------------------------------------------------------------------------\u001b[39m",
      "\u001b[31mModuleNotFoundError\u001b[39m                       Traceback (most recent call last)",
      "\u001b[36mCell\u001b[39m\u001b[36m \u001b[39m\u001b[32mIn[1]\u001b[39m\u001b[32m, line 2\u001b[39m\n\u001b[32m      1\u001b[39m \u001b[38;5;66;03m# Imports\u001b[39;00m\n\u001b[32m----> \u001b[39m\u001b[32m2\u001b[39m \u001b[38;5;28;01mfrom\u001b[39;00m\u001b[38;5;250m \u001b[39m\u001b[34;01mapp\u001b[39;00m\u001b[34;01m.\u001b[39;00m\u001b[34;01mgraph\u001b[39;00m\u001b[38;5;250m \u001b[39m\u001b[38;5;28;01mimport\u001b[39;00m run_pipeline\n\u001b[32m      3\u001b[39m \u001b[38;5;28;01mfrom\u001b[39;00m\u001b[38;5;250m \u001b[39m\u001b[34;01mapp\u001b[39;00m\u001b[34;01m.\u001b[39;00m\u001b[34;01mstate\u001b[39;00m\u001b[38;5;250m \u001b[39m\u001b[38;5;28;01mimport\u001b[39;00m AppState\n\u001b[32m      4\u001b[39m \u001b[38;5;28;01mfrom\u001b[39;00m\u001b[38;5;250m \u001b[39m\u001b[34;01mpathlib\u001b[39;00m\u001b[38;5;250m \u001b[39m\u001b[38;5;28;01mimport\u001b[39;00m Path\n",
      "\u001b[31mModuleNotFoundError\u001b[39m: No module named 'app'"
     ]
    }
   ],
   "source": [
    "# Imports\n",
    "from app.graph import run_pipeline\n",
    "from app.state import AppState\n",
    "from pathlib import Path\n",
    "from IPython.display import Image, display\n",
    "import os, json\n"
   ]
  },
  {
   "cell_type": "code",
   "execution_count": null,
   "id": "722a09d3",
   "metadata": {},
   "outputs": [],
   "source": [
    "# Optional: configure models here if not set in environment (.env is supported).\n",
    "# os.environ.setdefault(\"GEMINI_MODEL\", \"gemini-2.5-flash\")\n",
    "# os.environ.setdefault(\"GEMINI_IMAGE_MODEL\", \"gemini-2.5-flash-image\")\n",
    "# os.environ.setdefault(\"GEMINI_IMAGE_EDIT_MODEL\", \"gemini-2.5-flash-image\")\n",
    "print(\"GEMINI_MODEL=\", os.getenv(\"GEMINI_MODEL\", \"(default)\"))\n",
    "print(\"GEMINI_IMAGE_MODEL=\", os.getenv(\"GEMINI_IMAGE_MODEL\", \"(default)\"))\n",
    "print(\"GEMINI_IMAGE_EDIT_MODEL=\", os.getenv(\"GEMINI_IMAGE_EDIT_MODEL\", \"(default)\"))\n"
   ]
  },
  {
   "cell_type": "code",
   "execution_count": null,
   "id": "61aacffe",
   "metadata": {},
   "outputs": [],
   "source": [
    "# Enter a natural language NN spec (leave blank to use the sample in spec/vit.txt).\n",
    "print(\"Enter your NN spec prompt (blank for sample):\")\n",
    "user_text = input().strip()\n",
    "if not user_text:\n",
    "    user_text = Path('spec/vit.txt').read_text()\n",
    "\n",
    "# Number of candidates (K) and max edit rounds (T)\n",
    "K = 4\n",
    "T = 1\n",
    "print(f\"Configured: K={K}, T={T}\")\n"
   ]
  },
  {
   "cell_type": "code",
   "execution_count": null,
   "id": "f6c28bb1",
   "metadata": {},
   "outputs": [],
   "source": [
    "# Run the multi-agent pipeline\n",
    "state: AppState = {\n",
    "    'K': K,\n",
    "    'T': T,\n",
    "    'user_text': user_text,\n",
    "    'outdir': ''  # use timestamped default\n",
    "}\n",
    "final_state = run_pipeline(state)\n",
    "print('Artifacts directory:', final_state['outdir'])\n"
   ]
  },
  {
   "cell_type": "code",
   "execution_count": null,
   "id": "a402a108",
   "metadata": {},
   "outputs": [],
   "source": [
    "# Display the final image\n",
    "final_path = Path(final_state['outdir']) / 'final.png'\n",
    "if final_path.exists():\n",
    "    display(Image(filename=str(final_path)))\n",
    "else:\n",
    "    print('final.png not found at', final_path)\n"
   ]
  },
  {
   "cell_type": "code",
   "execution_count": null,
   "id": "f7518a91",
   "metadata": {},
   "outputs": [],
   "source": [
    "# (Optional) Inspect outputs: spec and scoring\n",
    "spec_txt = Path(final_state['outdir']) / 'spec.txt'\n",
    "scores_json = Path(final_state['outdir']) / 'scores.json'\n",
    "if spec_txt.exists():\n",
    "    print('--- spec.txt ---')\n",
    "    print(spec_txt.read_text())\n",
    "if scores_json.exists():\n",
    "    print('--- scores.json ---')\n",
    "    print(scores_json.read_text())\n"
   ]
  }
 ],
 "metadata": {
  "kernelspec": {
   "display_name": "Python 3 (ipykernel)",
   "language": "python",
   "name": "python3"
  },
  "language_info": {
   "codemirror_mode": {
    "name": "ipython",
    "version": 3
   },
   "file_extension": ".py",
   "mimetype": "text/x-python",
   "name": "python",
   "nbconvert_exporter": "python",
   "pygments_lexer": "ipython3",
   "version": "3.13.3"
  }
 },
 "nbformat": 4,
 "nbformat_minor": 5
}
